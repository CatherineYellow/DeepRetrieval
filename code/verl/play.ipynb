{
 "cells": [
  {
   "cell_type": "code",
   "execution_count": 2,
   "metadata": {},
   "outputs": [],
   "source": [
    "import sys\n",
    "import os\n",
    "\n",
    "# Debug: Print current directory and Python path\n",
    "\n",
    "from utils.apis.pubmed import PubmedAPI\n",
    "from utils.apis.ctgov import CTGovAPI\n",
    "\n",
    "\n",
    "if os.path.exists('utils/reward_score/apis/pubmed_api.key'):\n",
    "    api_key = open('utils/reward_score/apis/pubmed_api.key', 'r').read().strip()\n",
    "    api = PubmedAPI(api_key=api_key)\n",
    "    "
   ]
  },
  {
   "cell_type": "code",
   "execution_count": 3,
   "metadata": {},
   "outputs": [
    {
     "name": "stdout",
     "output_type": "stream",
     "text": [
      "Traceback (most recent call last):\n",
      "  File \"/home/pj20/server-04/LMR/code/verl/utils/apis/pubmed.py\", line 44, in search_with_query\n",
      "    response = requests.get(query)\n",
      "  File \"/home/pj20/miniconda3/envs/handbook/lib/python3.10/site-packages/requests/api.py\", line 73, in get\n",
      "    return request(\"get\", url, params=params, **kwargs)\n",
      "  File \"/home/pj20/miniconda3/envs/handbook/lib/python3.10/site-packages/requests/api.py\", line 59, in request\n",
      "    return session.request(method=method, url=url, **kwargs)\n",
      "  File \"/home/pj20/miniconda3/envs/handbook/lib/python3.10/site-packages/requests/sessions.py\", line 575, in request\n",
      "    prep = self.prepare_request(req)\n",
      "  File \"/home/pj20/miniconda3/envs/handbook/lib/python3.10/site-packages/requests/sessions.py\", line 484, in prepare_request\n",
      "    p.prepare(\n",
      "  File \"/home/pj20/miniconda3/envs/handbook/lib/python3.10/site-packages/requests/models.py\", line 367, in prepare\n",
      "    self.prepare_url(url, params)\n",
      "  File \"/home/pj20/miniconda3/envs/handbook/lib/python3.10/site-packages/requests/models.py\", line 438, in prepare_url\n",
      "    raise MissingSchema(\n",
      "requests.exceptions.MissingSchema: Invalid URL 'low back pain AND therapy&datetype=pdat&mindate=1970/01/01&api_key=38dd5de9d73b22d9ecee87613469c71af809&retmode=json&retmax=3000': No scheme supplied. Perhaps you meant https://low back pain AND therapy&datetype=pdat&mindate=1970/01/01&api_key=38dd5de9d73b22d9ecee87613469c71af809&retmode=json&retmax=3000?\n",
      "\n",
      "Retry 1 times\n",
      "Traceback (most recent call last):\n",
      "  File \"/home/pj20/server-04/LMR/code/verl/utils/apis/pubmed.py\", line 44, in search_with_query\n",
      "    response = requests.get(query)\n",
      "  File \"/home/pj20/miniconda3/envs/handbook/lib/python3.10/site-packages/requests/api.py\", line 73, in get\n",
      "    return request(\"get\", url, params=params, **kwargs)\n",
      "  File \"/home/pj20/miniconda3/envs/handbook/lib/python3.10/site-packages/requests/api.py\", line 59, in request\n",
      "    return session.request(method=method, url=url, **kwargs)\n",
      "  File \"/home/pj20/miniconda3/envs/handbook/lib/python3.10/site-packages/requests/sessions.py\", line 575, in request\n",
      "    prep = self.prepare_request(req)\n",
      "  File \"/home/pj20/miniconda3/envs/handbook/lib/python3.10/site-packages/requests/sessions.py\", line 484, in prepare_request\n",
      "    p.prepare(\n",
      "  File \"/home/pj20/miniconda3/envs/handbook/lib/python3.10/site-packages/requests/models.py\", line 367, in prepare\n",
      "    self.prepare_url(url, params)\n",
      "  File \"/home/pj20/miniconda3/envs/handbook/lib/python3.10/site-packages/requests/models.py\", line 438, in prepare_url\n",
      "    raise MissingSchema(\n",
      "requests.exceptions.MissingSchema: Invalid URL 'low back pain AND therapy&datetype=pdat&mindate=1970/01/01&api_key=38dd5de9d73b22d9ecee87613469c71af809&retmode=json&retmax=3000': No scheme supplied. Perhaps you meant https://low back pain AND therapy&datetype=pdat&mindate=1970/01/01&api_key=38dd5de9d73b22d9ecee87613469c71af809&retmode=json&retmax=3000?\n",
      "\n"
     ]
    },
    {
     "ename": "RuntimeError",
     "evalue": "A Pubmed API error occurred",
     "output_type": "error",
     "traceback": [
      "\u001b[0;31m---------------------------------------------------------------------------\u001b[0m",
      "\u001b[0;31mRuntimeError\u001b[0m                              Traceback (most recent call last)",
      "Cell \u001b[0;32mIn[3], line 4\u001b[0m\n\u001b[1;32m      1\u001b[0m pred_query \u001b[38;5;241m=\u001b[39m \u001b[38;5;124m\"\u001b[39m\u001b[38;5;124mlow back pain AND therapy\u001b[39m\u001b[38;5;124m\"\u001b[39m\n\u001b[1;32m      2\u001b[0m query \u001b[38;5;241m=\u001b[39m pred_query \u001b[38;5;241m+\u001b[39m \u001b[38;5;124m\"\u001b[39m\u001b[38;5;124m&datetype=pdat&mindate=1970/01/01\u001b[39m\u001b[38;5;124m\"\u001b[39m\n\u001b[0;32m----> 4\u001b[0m result \u001b[38;5;241m=\u001b[39m \u001b[43mapi\u001b[49m\u001b[38;5;241;43m.\u001b[39;49m\u001b[43msearch\u001b[49m\u001b[43m(\u001b[49m\u001b[43mquery\u001b[49m\u001b[43m)\u001b[49m\n",
      "File \u001b[0;32m~/server-04/LMR/code/verl/utils/apis/pubmed.py:24\u001b[0m, in \u001b[0;36mPubmedAPI.search\u001b[0;34m(self, query, topk)\u001b[0m\n\u001b[1;32m     22\u001b[0m \u001b[38;5;28;01mdef\u001b[39;00m \u001b[38;5;21msearch\u001b[39m(\u001b[38;5;28mself\u001b[39m, query, topk\u001b[38;5;241m=\u001b[39m\u001b[38;5;241m-\u001b[39m\u001b[38;5;241m1\u001b[39m):\n\u001b[1;32m     23\u001b[0m \u001b[38;5;250m    \u001b[39m\u001b[38;5;124;03m\"\"\"Get the response of pmids.\"\"\"\u001b[39;00m\n\u001b[0;32m---> 24\u001b[0m     search_results \u001b[38;5;241m=\u001b[39m \u001b[38;5;28;43mself\u001b[39;49m\u001b[38;5;241;43m.\u001b[39;49m\u001b[43msearch_with_query\u001b[49m\u001b[43m(\u001b[49m\u001b[43mquery\u001b[49m\u001b[43m,\u001b[49m\u001b[43m \u001b[49m\u001b[43mtopk\u001b[49m\u001b[38;5;241;43m=\u001b[39;49m\u001b[43mtopk\u001b[49m\u001b[43m)\u001b[49m\n\u001b[1;32m     26\u001b[0m     \u001b[38;5;28;01mreturn\u001b[39;00m search_results\n",
      "File \u001b[0;32m~/server-04/LMR/code/verl/utils/apis/pubmed.py:70\u001b[0m, in \u001b[0;36mPubmedAPI.search_with_query\u001b[0;34m(self, query, topk)\u001b[0m\n\u001b[1;32m     67\u001b[0m         \u001b[38;5;28mprint\u001b[39m(err_msg)\n\u001b[1;32m     69\u001b[0m \u001b[38;5;28;01mif\u001b[39;00m err_msg \u001b[38;5;241m!=\u001b[39m \u001b[38;5;124m\"\u001b[39m\u001b[38;5;124m\"\u001b[39m:\n\u001b[0;32m---> 70\u001b[0m     \u001b[38;5;28;01mraise\u001b[39;00m \u001b[38;5;167;01mRuntimeError\u001b[39;00m(\u001b[38;5;124m\"\u001b[39m\u001b[38;5;124mA Pubmed API error occurred\u001b[39m\u001b[38;5;124m\"\u001b[39m)\n\u001b[1;32m     72\u001b[0m search_results \u001b[38;5;241m=\u001b[39m pmid_list\n\u001b[1;32m     73\u001b[0m \u001b[38;5;28;01mreturn\u001b[39;00m search_results\n",
      "\u001b[0;31mRuntimeError\u001b[0m: A Pubmed API error occurred"
     ]
    }
   ],
   "source": [
    "pred_query = \"low back pain AND therapy\"\n",
    "query = pred_query + \"&datetype=pdat&mindate=1970/01/01\"\n",
    "\n",
    "result = api.search(query)"
   ]
  },
  {
   "cell_type": "code",
   "execution_count": null,
   "metadata": {},
   "outputs": [],
   "source": []
  }
 ],
 "metadata": {
  "kernelspec": {
   "display_name": "zero",
   "language": "python",
   "name": "python3"
  },
  "language_info": {
   "codemirror_mode": {
    "name": "ipython",
    "version": 3
   },
   "file_extension": ".py",
   "mimetype": "text/x-python",
   "name": "python",
   "nbconvert_exporter": "python",
   "pygments_lexer": "ipython3",
   "version": "3.9.21"
  }
 },
 "nbformat": 4,
 "nbformat_minor": 2
}
